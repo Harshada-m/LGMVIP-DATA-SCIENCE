{
 "cells": [
  {
   "cell_type": "markdown",
   "id": "d5bcf0d5",
   "metadata": {},
   "source": [
    "## Name- HARSHADA MALI \n"
   ]
  },
  {
   "cell_type": "markdown",
   "id": "73343f52",
   "metadata": {},
   "source": [
    "#### BEGINNER LEVEL TASK 04\n",
    "\n",
    "##### Image to Pencil Sketch with Python:\n",
    "We need to read the image in RBG format and then convert it to a grayscale image. This will turn an image into a classic black and white photo. Then the next thing to do is invert the grayscale image also called negative image, this will be our inverted grayscale image. Inversion can be used to enhance details. Then we can finally create the pencil sketch by mixing the grayscale image with the inverted blurry image. This can be done by dividing the grayscale image by the inverted blurry image. Since images are just arrays, we can easily do this programmatically using the divide function from the cv2 library in Python.\n"
   ]
  },
  {
   "cell_type": "markdown",
   "id": "cb41c7ce",
   "metadata": {},
   "source": [
    "### Installing Libraries"
   ]
  },
  {
   "cell_type": "code",
   "execution_count": null,
   "id": "97207b59",
   "metadata": {},
   "outputs": [],
   "source": [
    "import cv2\n",
    "import matplotlib.pyplot as plt\n",
    "%matplotlib inline\n",
    "from PIL import Image\n",
    "from IPython.display import display"
   ]
  },
  {
   "cell_type": "code",
   "execution_count": null,
   "id": "b8fd546f",
   "metadata": {},
   "outputs": [],
   "source": [
    "def show(title,img,cmap='RdGy'):\n",
    "    plt.imshow(img,cmap=cmap)\n",
    "    plt.title(title)"
   ]
  },
  {
   "cell_type": "markdown",
   "id": "a8d3e929",
   "metadata": {},
   "source": [
    "### Importing image"
   ]
  },
  {
   "cell_type": "code",
   "execution_count": null,
   "id": "451f8b2e",
   "metadata": {},
   "outputs": [],
   "source": [
    "image=plt.imread(\"students.jpg\")\n",
    "show(\"students\",image,'RdGy')"
   ]
  },
  {
   "cell_type": "markdown",
   "id": "05ec0a83",
   "metadata": {},
   "source": [
    "### Converting Image into Gray Scale Image"
   ]
  },
  {
   "cell_type": "code",
   "execution_count": null,
   "id": "c4d8cd8d",
   "metadata": {},
   "outputs": [],
   "source": [
    "gray_image=cv2.cvtColor(image,cv2.COLOR_RGB2GRAY)\n",
    "show(\"Gray_image\",gray_image,'gray')\n"
   ]
  },
  {
   "cell_type": "markdown",
   "id": "183f68a6",
   "metadata": {},
   "source": [
    "### Inverting Gray Scale Image"
   ]
  },
  {
   "cell_type": "code",
   "execution_count": null,
   "id": "83e32190",
   "metadata": {},
   "outputs": [],
   "source": [
    "Inverted_Image =255-gray_image\n",
    "show(\"Inverted_Image\",Inverted_Image,'gray')\n"
   ]
  },
  {
   "cell_type": "markdown",
   "id": "61d50b46",
   "metadata": {},
   "source": [
    "### Blurring Inverted Image"
   ]
  },
  {
   "cell_type": "code",
   "execution_count": null,
   "id": "9db7410d",
   "metadata": {},
   "outputs": [],
   "source": [
    "Blurred_Image =cv2.GaussianBlur(Inverted_Image,(21,21),0)\n",
    "show(\"Blurred_Image\",Blurred_Image,'gray')\n"
   ]
  },
  {
   "cell_type": "markdown",
   "id": "3f88d306",
   "metadata": {},
   "source": [
    "### Creating Pencil Sketch "
   ]
  },
  {
   "cell_type": "code",
   "execution_count": null,
   "id": "477e9dd1",
   "metadata": {},
   "outputs": [],
   "source": [
    "Inverted_Blurred=255-Blurred_Image\n",
    "Pencil_Sketch=cv2.divide(gray_image,Inverted_Blurred,scale=256.0)\n",
    "show(\"Pencil_Sketch\",Pencil_Sketch,'gray')"
   ]
  },
  {
   "cell_type": "markdown",
   "id": "b4bf9f24",
   "metadata": {},
   "source": [
    "### Original Image and Pencil Sketch "
   ]
  },
  {
   "cell_type": "code",
   "execution_count": null,
   "id": "11c8c05e",
   "metadata": {},
   "outputs": [],
   "source": [
    "display(Image.fromarray(image))\n",
    "display(Image.fromarray(Pencil_Sketch))"
   ]
  }
 ],
 "metadata": {
  "kernelspec": {
   "display_name": "Python 3 (ipykernel)",
   "language": "python",
   "name": "python3"
  },
  "language_info": {
   "codemirror_mode": {
    "name": "ipython",
    "version": 3
   },
   "file_extension": ".py",
   "mimetype": "text/x-python",
   "name": "python",
   "nbconvert_exporter": "python",
   "pygments_lexer": "ipython3",
   "version": "3.8.11"
  }
 },
 "nbformat": 4,
 "nbformat_minor": 5
}
